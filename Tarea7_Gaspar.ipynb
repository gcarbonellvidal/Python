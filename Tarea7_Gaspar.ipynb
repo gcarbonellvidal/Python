{
 "cells": [
  {
   "cell_type": "markdown",
   "metadata": {},
   "source": [
    "Crea un Notebook de Jupiter denominado Tarea7.ipynb para\n",
    "completar los ejercicios propuestos en esta tarea.\n",
    "Crea una lista denominada A que contenga dos strings el\n",
    "primero tu nombre el segundo tu primer apellido. Crea una\n",
    "tupla denominada A_bis que contenga tres strings el primero tu\n",
    "nombre, el segundo tu primer apellido y el tercero tu segundo\n",
    "apellido."
   ]
  },
  {
   "cell_type": "code",
   "execution_count": 9,
   "metadata": {},
   "outputs": [],
   "source": [
    "A = [\"Gaspar\" , \"Carbonell\"]\n",
    "A_bis = (\"Gaspar\" , \"Carbonell\" , \"Vidal\")"
   ]
  },
  {
   "cell_type": "markdown",
   "metadata": {},
   "source": [
    "Se puede incorporar un elemento en la tercera posición de\n",
    "A que fuera tu segundo apellido?. Cómo lo harías?."
   ]
  },
  {
   "cell_type": "code",
   "execution_count": 13,
   "metadata": {},
   "outputs": [
    {
     "data": {
      "text/plain": [
       "['Gaspar', 'Carbonell', 'Vidal']"
      ]
     },
     "execution_count": 13,
     "metadata": {},
     "output_type": "execute_result"
    }
   ],
   "source": [
    "A.append(\"Vidal\")\n",
    "A"
   ]
  },
  {
   "cell_type": "markdown",
   "metadata": {},
   "source": [
    "Modifica el tercer elemento de la A añadiendo tu\n",
    "provincia.Puedes hacerlo? Por qué?"
   ]
  },
  {
   "cell_type": "code",
   "execution_count": 15,
   "metadata": {},
   "outputs": [
    {
     "data": {
      "text/plain": [
       "['Gaspar', 'Carbonell', 'Valencia']"
      ]
     },
     "execution_count": 15,
     "metadata": {},
     "output_type": "execute_result"
    }
   ],
   "source": [
    "A[2] = \"Valencia\"\n",
    "A"
   ]
  },
  {
   "cell_type": "markdown",
   "metadata": {},
   "source": [
    "Modifica el tercer elemento de la tupla añadiendo tu\n",
    "provincia. Puedes hacerlo? Por qué?"
   ]
  },
  {
   "cell_type": "code",
   "execution_count": null,
   "metadata": {},
   "outputs": [],
   "source": [
    "A_bis[]"
   ]
  },
  {
   "cell_type": "markdown",
   "metadata": {},
   "source": [
    "Crea una lista B que contenga:\n",
    "• En el primer elemento: La lista A\n",
    "• En el seguindo elemento: La tupla (1,3,5)\n",
    "• En el tercer elemento: La lista [2,4,6]"
   ]
  },
  {
   "cell_type": "code",
   "execution_count": 17,
   "metadata": {},
   "outputs": [
    {
     "data": {
      "text/plain": [
       "[['Gaspar', 'Carbonell', 'Valencia'], (1, 3, 5), [2, 4, 6]]"
      ]
     },
     "execution_count": 17,
     "metadata": {},
     "output_type": "execute_result"
    }
   ],
   "source": [
    "B = [(A) , (1,3,5) , [2,4,6]]\n",
    "B"
   ]
  },
  {
   "cell_type": "markdown",
   "metadata": {},
   "source": [
    "• Como accederías a los siguientes elementos de la\n",
    "lista B:\n",
    "• Tu nombre\n",
    "• El número 1\n",
    "• El número 4"
   ]
  },
  {
   "cell_type": "code",
   "execution_count": 34,
   "metadata": {},
   "outputs": [
    {
     "name": "stdout",
     "output_type": "stream",
     "text": [
      "Gaspar\n",
      "1\n",
      "4\n",
      "Gaspar\n",
      "1\n",
      "4\n"
     ]
    }
   ],
   "source": [
    "nombre = B[0]\n",
    "print(nombre[0])\n",
    "tupla = B[1]\n",
    "print(tupla[0])\n",
    "lista = B[2]\n",
    "print(lista[1])\n",
    "\n",
    "print(B[0][0])\n",
    "print(B[1][0])\n",
    "print(B[2][1])"
   ]
  },
  {
   "cell_type": "markdown",
   "metadata": {},
   "source": [
    "Crea un programa que:\n",
    "• Defina la lista C con el contenido que desees.\n",
    "• Ordene los elementos de C cuando sea\n",
    "posible. Si es posible devolverá por pantalla\n",
    "un texto que informe de Lista ordenada y\n",
    "el resultado en caso contrario devolverá\n",
    "un texto que diga Imposible Ordenación.\n",
    "• Sea o no posible, la conversión, queremos que\n",
    "programa muestre el tipo de dato del primer\n",
    "elemento de la lista."
   ]
  },
  {
   "cell_type": "code",
   "execution_count": 36,
   "metadata": {},
   "outputs": [
    {
     "name": "stdout",
     "output_type": "stream",
     "text": [
      "No ha sido posible ordenar\n",
      "<class 'int'>\n"
     ]
    }
   ],
   "source": [
    "C = [1,5,9,\"prueba\",5,8,7]\n",
    "#C = [1,5,9,45,5,8,7]\n",
    "\n",
    "try:\n",
    "    C.sort()\n",
    "    print(C)\n",
    "    #print(type(C[0]))\n",
    "except:\n",
    "    print(\"No ha sido posible ordenar\")\n",
    "    #print(type(C[0]))\n",
    "finally:\n",
    "    print(type(C[0]))    "
   ]
  }
 ],
 "metadata": {
  "kernelspec": {
   "display_name": "base",
   "language": "python",
   "name": "python3"
  },
  "language_info": {
   "codemirror_mode": {
    "name": "ipython",
    "version": 3
   },
   "file_extension": ".py",
   "mimetype": "text/x-python",
   "name": "python",
   "nbconvert_exporter": "python",
   "pygments_lexer": "ipython3",
   "version": "3.12.4"
  }
 },
 "nbformat": 4,
 "nbformat_minor": 2
}
