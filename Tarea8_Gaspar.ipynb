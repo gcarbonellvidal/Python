{
 "cells": [
  {
   "cell_type": "markdown",
   "metadata": {},
   "source": [
    "Crea un Notebook de Jupiter denominado Tarea8.ipynb para\n",
    "completar los ejercicios propuestos en esta tarea.\n",
    "El modulo random contiene una función denominada\n",
    "randrange permite generar un número entero aleatorio. Crea\n",
    "una lista denominada Ejer8a que contenga 200 números\n",
    "aleatorios en el rango de 0 a 100. Ordena la lista Ejer8a."
   ]
  },
  {
   "cell_type": "code",
   "execution_count": 4,
   "metadata": {},
   "outputs": [
    {
     "name": "stdout",
     "output_type": "stream",
     "text": [
      "[83, 77, 93, 38, 64, 77, 11, 84, 34, 22, 20, 51, 72, 62, 34, 40, 18, 32, 6, 51, 14, 5, 83, 50, 17, 7, 41, 95, 69, 27, 33, 22, 31, 60, 34, 96, 6, 1, 15, 55, 3, 9, 35, 45, 47, 77, 35, 61, 7, 94, 19, 61, 94, 40, 82, 41, 46, 86, 41, 37, 62, 90, 48, 43, 66, 5, 3, 35, 84, 66, 52, 57, 30, 23, 61, 12, 14, 90, 86, 65, 52, 29, 1, 94, 69, 25, 43, 46, 2, 72, 78, 19, 42, 11, 72, 97, 65, 63, 27, 51, 38, 3, 70, 68, 66, 54, 83, 6, 15, 40, 73, 80, 44, 72, 44, 19, 38, 89, 77, 12, 54, 2, 59, 35, 14, 32, 57, 61, 35, 94, 72, 31, 28, 21, 68, 81, 22, 51, 85, 90, 0, 12, 68, 36, 16, 3, 73, 12, 11, 83, 36, 35, 1, 40, 27, 11, 27, 40, 71, 50, 32, 84, 68, 3, 13, 17, 63, 5, 5, 21, 7, 6, 93, 3, 47, 5, 92, 24, 60, 84, 15, 79, 53, 64, 41, 34, 97, 28, 61, 35, 80, 9, 38, 32, 47, 8, 69, 78, 83, 18]\n",
      "[0, 1, 1, 1, 2, 2, 3, 3, 3, 3, 3, 3, 5, 5, 5, 5, 5, 6, 6, 6, 6, 7, 7, 7, 8, 9, 9, 11, 11, 11, 11, 12, 12, 12, 12, 13, 14, 14, 14, 15, 15, 15, 16, 17, 17, 18, 18, 19, 19, 19, 20, 21, 21, 22, 22, 22, 23, 24, 25, 27, 27, 27, 27, 28, 28, 29, 30, 31, 31, 32, 32, 32, 32, 33, 34, 34, 34, 34, 35, 35, 35, 35, 35, 35, 35, 36, 36, 37, 38, 38, 38, 38, 40, 40, 40, 40, 40, 41, 41, 41, 41, 42, 43, 43, 44, 44, 45, 46, 46, 47, 47, 47, 48, 50, 50, 51, 51, 51, 51, 52, 52, 53, 54, 54, 55, 57, 57, 59, 60, 60, 61, 61, 61, 61, 61, 62, 62, 63, 63, 64, 64, 65, 65, 66, 66, 66, 68, 68, 68, 68, 69, 69, 69, 70, 71, 72, 72, 72, 72, 72, 73, 73, 77, 77, 77, 77, 78, 78, 79, 80, 80, 81, 82, 83, 83, 83, 83, 83, 84, 84, 84, 84, 85, 86, 86, 89, 90, 90, 90, 92, 93, 93, 94, 94, 94, 94, 95, 96, 97, 97]\n"
     ]
    }
   ],
   "source": [
    "import random\n",
    "Ejer8a = []\n",
    "\n",
    "for value in range(200):\n",
    "    Ejer8a.append(random.randrange(100))\n",
    "\n",
    "print(Ejer8a)    \n",
    "    \n",
    "print(sorted(Ejer8a))"
   ]
  },
  {
   "cell_type": "markdown",
   "metadata": {},
   "source": [
    "Sean dos listas Nombre=[‘ana’,’pedro’,’juan’,’oscar’,’julia’] y\n",
    "Peso=[55.7, 80.6 ,87.8, 75.4, 60.1], consigue una lista de tuplas\n",
    "en la que cada tupla este compuesta por el nombre y el peso de\n",
    "cada sujeto."
   ]
  },
  {
   "cell_type": "code",
   "execution_count": 8,
   "metadata": {},
   "outputs": [
    {
     "name": "stdout",
     "output_type": "stream",
     "text": [
      "<zip object at 0x0000022164D11900>\n"
     ]
    },
    {
     "data": {
      "text/plain": [
       "[('ana', 55.7),\n",
       " ('pedro', 80.6),\n",
       " ('juan', 87.8),\n",
       " ('oscar', 75.4),\n",
       " ('julia', 60.1)]"
      ]
     },
     "execution_count": 8,
     "metadata": {},
     "output_type": "execute_result"
    }
   ],
   "source": [
    "Nombre=[\"ana\",\"pedro\",\"juan\",\"oscar\",\"julia\"]\n",
    "Peso=[55.7, 80.6 ,87.8, 75.4, 60.1]\n",
    "\n",
    "tupla=zip(Nombre,Peso)\n",
    "print(tupla)\n",
    "res=list(tupla) #Si no ponemos list no vemos la lista\n",
    "res"
   ]
  },
  {
   "cell_type": "markdown",
   "metadata": {},
   "source": [
    "Genera un diccionario cuyas claves sean los nombres de los\n",
    "sujetos del ejercicio anterior y los valores su peso. Cómo\n",
    "podrías acceder dentro del diccionario al peso de Ana? Y al de\n",
    "Pedro?. Si queremos añadir un sujeto más a la base de datos, en\n",
    "concreto Emilio con un peso de 83.2 en el diccionario, Cómo lo\n",
    "harías?. Por último, elimina del diccionario a Juan."
   ]
  },
  {
   "cell_type": "code",
   "execution_count": 2,
   "metadata": {},
   "outputs": [
    {
     "name": "stdout",
     "output_type": "stream",
     "text": [
      "{'ana': 55.7, 'pedro': 80.6, 'juan': 87.8, 'oscar': 75.4, 'julia': 60.1}\n",
      "55.7\n",
      "80.6\n",
      "{'ana': 55.7, 'pedro': 80.6, 'juan': 87.8, 'oscar': 75.4, 'julia': 60.1, 'Emilio': 84.2}\n",
      "{'ana': 55.7, 'pedro': 80.6, 'oscar': 75.4, 'julia': 60.1, 'Emilio': 84.2}\n"
     ]
    }
   ],
   "source": [
    "Nombre=[\"ana\",\"pedro\",\"juan\",\"oscar\",\"julia\"]\n",
    "Peso=[55.7, 80.6 ,87.8, 75.4, 60.1]\n",
    "\n",
    "Diccionario_1 = dict(zip(Nombre,Peso))\n",
    "\n",
    "print(Diccionario_1)\n",
    "print(Diccionario_1[\"ana\"])\n",
    "print(Diccionario_1[\"pedro\"])\n",
    "Diccionario_1[\"Emilio\"]=84.2\n",
    "print(Diccionario_1)\n",
    "del Diccionario_1[\"juan\"]\n",
    "print(Diccionario_1)"
   ]
  },
  {
   "cell_type": "markdown",
   "metadata": {},
   "source": [
    "Repite la creación del diccionario anterior utilizando\n",
    "obligatoriamente un bucle for para añadir cada elemento del\n",
    "diccionario. Hazlo SIN y CON comprehensions."
   ]
  },
  {
   "cell_type": "code",
   "execution_count": 4,
   "metadata": {},
   "outputs": [
    {
     "name": "stdout",
     "output_type": "stream",
     "text": [
      "{'ana': 55.7, 'pedro': 80.6, 'juan': 87.8, 'oscar': 75.4, 'julia': 60.1}\n",
      "{'ana': 55.7, 'pedro': 80.6, 'juan': 87.8, 'oscar': 75.4, 'julia': 60.1}\n"
     ]
    }
   ],
   "source": [
    "Diccionario_2 = {}\n",
    "\n",
    "for clave, valor in zip(Nombre,Peso):\n",
    "    Diccionario_2[clave] = valor\n",
    "print(Diccionario_2)  \n",
    "\n",
    "#Solución con comprehensions\n",
    "\n",
    "Diccionario_3 = {nombre_1:Peso_1 for nombre_1, Peso_1 in zip(Nombre,Peso)}\n",
    "print(Diccionario_3)"
   ]
  },
  {
   "cell_type": "markdown",
   "metadata": {},
   "source": [
    "1 - Crea dos listas Ejer8b y Ejer8c aleatorias como la\n",
    "del ejercicio 2 de esta tarea.\n",
    "2 - Determina los elementos únicos de cada lista.\n",
    "3 - Determina los elementos que tienen en\n",
    "común ambas listas.\n",
    "4 - Determina los elementos de la lista Ejer8b\n",
    "que no están en la lista Ejer8a."
   ]
  },
  {
   "cell_type": "code",
   "execution_count": 12,
   "metadata": {},
   "outputs": [
    {
     "name": "stdout",
     "output_type": "stream",
     "text": [
      "[47, 10, 55, 63, 52, 21, 49, 42, 77, 43, 22, 23, 0, 71, 15, 54, 6, 22, 72, 38, 91, 29, 72, 21, 85, 70, 48, 77, 50, 88, 15, 22, 6, 84, 94, 73, 13, 3, 43, 12, 37, 59, 21, 30, 75, 84, 97, 66, 36, 68, 57, 12, 88, 12, 31, 94, 86, 87, 26, 87, 74, 26, 57, 96, 99, 15, 29, 78, 7, 48, 99, 51, 78, 65, 7, 15, 15, 51, 81, 17, 61, 73, 60, 59, 6, 82, 29, 4, 87, 63, 71, 44, 33, 46, 5, 80, 41, 80, 91, 17, 84, 10, 14, 95, 44, 74, 33, 16, 10, 12, 89, 97, 26, 3, 81, 33, 5, 34, 78, 66, 82, 68, 57, 58, 68, 19, 13, 17, 29, 31, 73, 75, 45, 53, 59, 17, 13, 17, 42, 75, 42, 18, 26, 34, 6, 95, 63, 60, 49, 98, 85, 69, 44, 25, 48, 71, 12, 33, 35, 18, 52, 60, 57, 49, 29, 65, 96, 95, 54, 4, 20, 68, 88, 26, 49, 57, 0, 74, 23, 68, 33, 69, 74, 16, 29, 8, 99, 29, 36, 39, 78, 7, 31, 66, 96, 41, 27, 51, 98, 92]\n",
      "[9, 53, 23, 50, 88, 94, 17, 64, 78, 75, 34, 98, 9, 26, 96, 86, 23, 64, 47, 5, 88, 32, 56, 13, 59, 17, 5, 58, 82, 29, 6, 54, 42, 59, 43, 12, 34, 1, 29, 47, 32, 91, 77, 3, 46, 76, 50, 15, 64, 40, 67, 98, 62, 32, 59, 38, 87, 33, 93, 97, 65, 3, 92, 65, 16, 39, 24, 20, 76, 1, 97, 88, 68, 13, 84, 29, 63, 91, 32, 38, 39, 83, 13, 96, 44, 45, 45, 58, 4, 0, 63, 1, 50, 88, 99, 58, 99, 88, 80, 32, 35, 81, 52, 55, 71, 60, 2, 81, 73, 52, 55, 97, 93, 60, 92, 56, 71, 78, 54, 15, 3, 84, 48, 46, 55, 43, 45, 34, 45, 24, 82, 56, 92, 61, 53, 65, 83, 89, 33, 26, 74, 97, 87, 86, 12, 84, 43, 72, 98, 10, 51, 67, 94, 36, 23, 63, 4, 42, 81, 43, 66, 80, 86, 38, 40, 77, 16, 68, 84, 53, 83, 68, 68, 7, 85, 44, 30, 4, 64, 86, 43, 85, 78, 13, 5, 50, 90, 67, 66, 62, 57, 29, 97, 31, 30, 86, 25, 22, 88, 27]\n",
      "{0, 3, 4, 5, 6, 7, 8, 10, 12, 13, 14, 15, 16, 17, 18, 19, 20, 21, 22, 23, 25, 26, 27, 29, 30, 31, 33, 34, 35, 36, 37, 38, 39, 41, 42, 43, 44, 45, 46, 47, 48, 49, 50, 51, 52, 53, 54, 55, 57, 58, 59, 60, 61, 63, 65, 66, 68, 69, 70, 71, 72, 73, 74, 75, 77, 78, 80, 81, 82, 84, 85, 86, 87, 88, 89, 91, 92, 94, 95, 96, 97, 98, 99}\n",
      "{0, 1, 2, 3, 4, 5, 6, 7, 9, 10, 12, 13, 15, 16, 17, 20, 22, 23, 24, 25, 26, 27, 29, 30, 31, 32, 33, 34, 35, 36, 38, 39, 40, 42, 43, 44, 45, 46, 47, 48, 50, 51, 52, 53, 54, 55, 56, 57, 58, 59, 60, 61, 62, 63, 64, 65, 66, 67, 68, 71, 72, 73, 74, 75, 76, 77, 78, 80, 81, 82, 83, 84, 85, 86, 87, 88, 89, 90, 91, 92, 93, 94, 96, 97, 98, 99}\n",
      "{0, 1, 2, 3, 4, 5, 6, 7, 9, 10, 12, 13, 15, 16, 17, 20, 22, 23, 24, 25, 26, 27, 29, 30, 31, 32, 33, 34, 35, 36, 38, 39, 40, 42, 43, 44, 45, 46, 47, 48, 50, 51, 52, 53, 54, 55, 56, 57, 58, 59, 60, 61, 62, 63, 64, 65, 66, 67, 68, 71, 72, 73, 74, 75, 76, 77, 78, 80, 81, 82, 83, 84, 85, 86, 87, 88, 89, 90, 91, 92, 93, 94, 96, 97, 98, 99}\n",
      "{37, 69, 70, 8, 41, 14, 49, 18, 19, 21, 95}\n"
     ]
    }
   ],
   "source": [
    "#PUNTO 1\n",
    "import random\n",
    "Ejer8b = []\n",
    "Ejer8c = []\n",
    "\n",
    "for value in range(200):\n",
    "    Ejer8b.append(random.randrange(100))\n",
    "\n",
    "for value in range(200):\n",
    "    Ejer8c.append(random.randrange(100))\n",
    "\n",
    "print(Ejer8b)\n",
    "print(Ejer8c)  \n",
    "\n",
    "#PUNTO 2\n",
    "print(set(Ejer8b))\n",
    "print(set(Ejer8c))\n",
    "\n",
    "#PUNTO 3\n",
    "print(set(Ejer8b) and set(Ejer8c))\n",
    "\n",
    "#PUNTO 4\n",
    "\n",
    "print(set(Ejer8b) - set(Ejer8c))\n"
   ]
  },
  {
   "cell_type": "markdown",
   "metadata": {},
   "source": [
    "Crea un diccionario cuyas claves contengan los\n",
    "nombres de la lista Nombre y cuyo valor sea la\n",
    "posición que ocupa en la lista.\n"
   ]
  },
  {
   "cell_type": "code",
   "execution_count": 15,
   "metadata": {},
   "outputs": [
    {
     "data": {
      "text/plain": [
       "{'ana': 0, 'pedro': 1, 'juan': 2, 'oscar': 3, 'julia': 4}"
      ]
     },
     "execution_count": 15,
     "metadata": {},
     "output_type": "execute_result"
    }
   ],
   "source": [
    "Nombre_2=[\"ana\",\"pedro\",\"juan\",\"oscar\",\"julia\"]\n",
    "\n",
    "{Nombre_2 : posicion  for posicion , Nombre_2 in enumerate(Nombre_2) }"
   ]
  },
  {
   "cell_type": "markdown",
   "metadata": {},
   "source": [
    "Crea una lista derivada de la lista Nombres que\n",
    "contenga los nombres con mas de 4 letras."
   ]
  },
  {
   "cell_type": "code",
   "execution_count": 18,
   "metadata": {},
   "outputs": [
    {
     "data": {
      "text/plain": [
       "{'julia', 'oscar', 'pedro'}"
      ]
     },
     "execution_count": 18,
     "metadata": {},
     "output_type": "execute_result"
    }
   ],
   "source": [
    "{Nombre_4 for Nombre_4 in Nombre_2 if len(Nombre_4) > 4 }"
   ]
  },
  {
   "cell_type": "markdown",
   "metadata": {},
   "source": [
    "En el diccionario resultante del ejercicio 4 de esta\n",
    "tarea crea un nuevo diccionario con los usuarios\n",
    "cuyo peso es mayor de 65.0 Kg. Siéntete libre\n",
    "de utilizar comprehensions cuando lo\n",
    "consideres oportuno."
   ]
  },
  {
   "cell_type": "code",
   "execution_count": 26,
   "metadata": {},
   "outputs": [
    {
     "data": {
      "text/plain": [
       "{'pedro': 80.6, 'juan': 87.8, 'oscar': 75.4}"
      ]
     },
     "execution_count": 26,
     "metadata": {},
     "output_type": "execute_result"
    }
   ],
   "source": [
    "Nombre=[\"ana\",\"pedro\",\"juan\",\"oscar\",\"julia\"]\n",
    "Peso=[55.7, 80.6 ,87.8, 75.4, 60.1]\n",
    "\n",
    "Diccionario_1 = dict(zip(Nombre,Peso))\n",
    "\n",
    "{Nombre_65 : Peso_65 for Nombre_65 , Peso_65 in Diccionario_1.items() if Peso_65 > 65}"
   ]
  }
 ],
 "metadata": {
  "kernelspec": {
   "display_name": "base",
   "language": "python",
   "name": "python3"
  },
  "language_info": {
   "codemirror_mode": {
    "name": "ipython",
    "version": 3
   },
   "file_extension": ".py",
   "mimetype": "text/x-python",
   "name": "python",
   "nbconvert_exporter": "python",
   "pygments_lexer": "ipython3",
   "version": "3.12.4"
  }
 },
 "nbformat": 4,
 "nbformat_minor": 2
}
