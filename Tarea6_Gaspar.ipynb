{
 "cells": [
  {
   "cell_type": "markdown",
   "metadata": {},
   "source": [
    "Crea un Notebook de Jupiter denominado Tarea6.ipynb para\n",
    "completar los ejercicios propuestos en esta tarea.\n",
    "Escribe un segmento de código que calcule la suma de los\n",
    "cuadrados de los números enteros hasta que esta suma sea\n",
    "superior a 50000 ."
   ]
  },
  {
   "cell_type": "code",
   "execution_count": 3,
   "metadata": {},
   "outputs": [
    {
     "name": "stdout",
     "output_type": "stream",
     "text": [
      "54\n",
      "51039\n"
     ]
    }
   ],
   "source": [
    "numero = 1\n",
    "suma = 0\n",
    "while suma <= 50000:\n",
    "    suma = suma + numero**2\n",
    "    numero += 1\n",
    "    \n",
    "print(numero)\n",
    "print(suma)"
   ]
  },
  {
   "cell_type": "markdown",
   "metadata": {},
   "source": [
    "Construir un programa que calcule el índice de masa corporal\n",
    "de una persona (IMC = peso [kg] / altura2 [m]) e indique el\n",
    "estado en el que se encuentra esa persona en función del valor\n",
    "de IMC. Crea dos variables denominadas peso y altura.\n",
    "• IMC<16 Criterio de ingreso en hospital\n",
    "• 16<=IMC<17 Infrapeso\n",
    "• 17<=IMC<18 Bajo peso\n",
    "• 18<=IMC<25 Peso OK\n",
    "• 25<=IMC<30 Obesidad Grado 1\n",
    "• 30<=IMC<35 Obesidad Grado II\n",
    "• 35<=IMC<40 I Obesidad Grado III\n",
    "• IMC>=40 Obesidad de Grado 4"
   ]
  },
  {
   "cell_type": "code",
   "execution_count": 17,
   "metadata": {},
   "outputs": [
    {
     "name": "stdout",
     "output_type": "stream",
     "text": [
      "Su índice de masa corporal es: \n",
      "27.119287899315694\n",
      "Obesidad Grado 1\n"
     ]
    }
   ],
   "source": [
    "peso = float(input(\"Introduzca su peso: \"))\n",
    "altura2 = float(input(\"Introduzca su altura: \"))\n",
    "IMC = (peso/(altura2**altura2))\n",
    "print(\"Su índice de masa corporal es: \")\n",
    "print(IMC)\n",
    "\n",
    "if IMC < 16:\n",
    "    print(\"Criterio de ingreso en hospital\")\n",
    "elif IMC < 17 and IMC>=16:\n",
    "    print(\"Infrapeso\")  \n",
    "elif IMC < 18 and IMC>=17:  \n",
    "    print(\"Bajo peso\")    \n",
    "elif IMC < 25 and IMC>=18:  \n",
    "    print(\"Peso OK\")  \n",
    "elif IMC < 30 and IMC>=25:  \n",
    "    print(\"Obesidad Grado 1\")     \n",
    "elif IMC < 35 and IMC>=30:  \n",
    "    print(\"Obesidad grado 2\")     \n",
    "elif IMC < 40 and IMC>=35:  \n",
    "    print(\"Obesidad grado 3\")\n",
    "elif IMC >= 40:  \n",
    "    print(\"Obesidad grado 4\")             "
   ]
  },
  {
   "cell_type": "markdown",
   "metadata": {},
   "source": [
    "Haz un programa que calcule el factorial del\n",
    "contenido de la variable argumento. Utiliza\n",
    "bucles for y setencias if."
   ]
  },
  {
   "cell_type": "code",
   "execution_count": 19,
   "metadata": {},
   "outputs": [
    {
     "name": "stdout",
     "output_type": "stream",
     "text": [
      "N:  1 Factorial:  120\n"
     ]
    }
   ],
   "source": [
    "argumento = int(input(\"Introduzca el número para calcular su factorial: \"))\n",
    "\n",
    "factorial = 1\n",
    "\n",
    "if argumento == 0:\n",
    "    factorial = 1\n",
    "else:\n",
    "    while argumento != 1 :\n",
    "        factorial = factorial*argumento\n",
    "        argumento = argumento -1\n",
    "print(\"N: \" , argumento, \"Factorial: \" , factorial)            \n"
   ]
  },
  {
   "cell_type": "markdown",
   "metadata": {},
   "source": [
    "Crea un programa que devuelva por pantalla, a\n",
    "partir de una variable dada:\n",
    "Si es posible hacer la conversión a real, el\n",
    "texto Conversión OK y el resultado de la\n",
    "conversión.\n",
    "Si NO es posible hacer la conversión a real, el\n",
    "texto Imposible Conversión y el\n",
    "contenido de la variable sin convertir."
   ]
  },
  {
   "cell_type": "code",
   "execution_count": 22,
   "metadata": {},
   "outputs": [
    {
     "name": "stdout",
     "output_type": "stream",
     "text": [
      "No ha sido posible la conversión por  <class 'ValueError'>\n"
     ]
    }
   ],
   "source": [
    "variable = input(\"Introduzca el valor de la variable: \")\n",
    "\n",
    "try:\n",
    "    conversion = float(variable)\n",
    "    print(conversion)\n",
    "except ValueError:\n",
    "    print(\"No ha sido posible la conversión por \" , ValueError)\n",
    "\n"
   ]
  }
 ],
 "metadata": {
  "kernelspec": {
   "display_name": "base",
   "language": "python",
   "name": "python3"
  },
  "language_info": {
   "codemirror_mode": {
    "name": "ipython",
    "version": 3
   },
   "file_extension": ".py",
   "mimetype": "text/x-python",
   "name": "python",
   "nbconvert_exporter": "python",
   "pygments_lexer": "ipython3",
   "version": "3.12.4"
  }
 },
 "nbformat": 4,
 "nbformat_minor": 2
}
