{
 "cells": [
  {
   "cell_type": "markdown",
   "metadata": {},
   "source": [
    "Crea un Notebook de Jupi ter denominado\n",
    "Tarea4bis2.ipynb para completar los ejercicios\n",
    "propuestos en esta tarea.\n",
    "\n",
    "Define 3 variables a=7, b=8.5 y c=‘MasterDatos’. De\n",
    "qué tipo de datos son los objetos a los que hacen\n",
    "referencia las variables?. Utiliza la función adecuada\n",
    "para justificar la veracidad de tu respuesta."
   ]
  },
  {
   "cell_type": "code",
   "execution_count": 1,
   "metadata": {},
   "outputs": [
    {
     "name": "stdout",
     "output_type": "stream",
     "text": [
      "<class 'int'>\n",
      "<class 'float'>\n",
      "<class 'str'>\n"
     ]
    }
   ],
   "source": [
    "a=7\n",
    "b=8.5\n",
    "c=\"MasterDatos\"\n",
    "\n",
    "print(type(a))\n",
    "print(type(b))\n",
    "print(type(c))"
   ]
  },
  {
   "cell_type": "markdown",
   "metadata": {},
   "source": [
    "Cuales son los atributos y métodos de los objetos a los\n",
    "que hacen referencia a, b y c.?\n",
    "Añade comentarios a cada uno de los ejercicios."
   ]
  },
  {
   "cell_type": "code",
   "execution_count": 6,
   "metadata": {},
   "outputs": [
    {
     "name": "stdout",
     "output_type": "stream",
     "text": [
      "7\n",
      "8.5\n",
      "2\n"
     ]
    }
   ],
   "source": [
    "print(a.real)\n",
    "print(b.real)\n",
    "print(c.count(\"a\"))"
   ]
  }
 ],
 "metadata": {
  "kernelspec": {
   "display_name": "base",
   "language": "python",
   "name": "python3"
  },
  "language_info": {
   "codemirror_mode": {
    "name": "ipython",
    "version": 3
   },
   "file_extension": ".py",
   "mimetype": "text/x-python",
   "name": "python",
   "nbconvert_exporter": "python",
   "pygments_lexer": "ipython3",
   "version": "3.12.4"
  }
 },
 "nbformat": 4,
 "nbformat_minor": 2
}
