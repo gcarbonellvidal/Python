{
 "cells": [
  {
   "cell_type": "markdown",
   "metadata": {},
   "source": [
    "Crea un Notebook de Jupiter denominado Tarea5.ipynb para\n",
    "completar los ejercicios propuestos en esta tarea.\n",
    "Crea dos variables de tipo string . La primera denominada\n",
    "parte1 y que contengan la palabras las variables string. Y\n",
    "la segunda denominada parte 2 y que contenga la frase son\n",
    "muy útilies.\n",
    "Crea una variable denominada eslogan que contenga la\n",
    "concatenación de las variables parte 1 y parte 2 ."
   ]
  },
  {
   "cell_type": "code",
   "execution_count": 1,
   "metadata": {},
   "outputs": [
    {
     "data": {
      "text/plain": [
       "'las variables string son muy útiles'"
      ]
     },
     "metadata": {},
     "output_type": "display_data"
    }
   ],
   "source": [
    "parte1 = \"las variables string \"\n",
    "parte2 = \"son muy útiles\"\n",
    "eslogan = parte1 + parte2\n",
    "display(eslogan)"
   ]
  },
  {
   "cell_type": "markdown",
   "metadata": {},
   "source": [
    "Explora los métodos y los atributos que contiene un objeto de\n",
    "tipo string. A partir del nombre de los diferentes métodos de\n",
    "un objeto de tipo string intenta conseguir que la frase\n",
    "contenida en eslogan empiece por mayúscula."
   ]
  },
  {
   "cell_type": "code",
   "execution_count": 8,
   "metadata": {},
   "outputs": [
    {
     "name": "stdout",
     "output_type": "stream",
     "text": [
      "Las variables string son muy útiles\n"
     ]
    }
   ],
   "source": [
    "eslogan2 = eslogan.capitalize()\n",
    "print(eslogan2)"
   ]
  },
  {
   "cell_type": "markdown",
   "metadata": {},
   "source": [
    "Intenta conseguir, a partir de los métodos de un string, una lista\n",
    "con las diferentes palabras que componen la frase contenida en\n",
    "el eslogan."
   ]
  },
  {
   "cell_type": "code",
   "execution_count": 9,
   "metadata": {},
   "outputs": [
    {
     "name": "stdout",
     "output_type": "stream",
     "text": [
      "['Las', 'variables', 'string', 'son', 'muy', 'útiles']\n"
     ]
    }
   ],
   "source": [
    "eslogan3 = eslogan2.split()\n",
    "print(eslogan3)"
   ]
  },
  {
   "cell_type": "markdown",
   "metadata": {},
   "source": [
    "Sea una variable de tipo string denominada interes que\n",
    "contiene el tipo de interés numérico de un préstamo. Otra\n",
    "variable que contiene un número real denominada cantidad\n",
    "que contiene la cantidad de dinero solicitado y una última\n",
    "variable denominada Ncuotas que contiene un número entero\n",
    "con el número de cuotas a pagar. Escribe en una línea de código\n",
    "como se calcularía la variable cuota."
   ]
  },
  {
   "cell_type": "code",
   "execution_count": 12,
   "metadata": {},
   "outputs": [
    {
     "name": "stdout",
     "output_type": "stream",
     "text": [
      "697.3390625\n"
     ]
    }
   ],
   "source": [
    "interes = \"7.5\"\n",
    "cantidad = 20758\n",
    "Ncuotas = 32\n",
    "\n",
    "cuota = (((float(interes)+100) * cantidad)/100)/Ncuotas\n",
    "print(cuota) "
   ]
  },
  {
   "cell_type": "markdown",
   "metadata": {},
   "source": [
    "Crea una variable denominada InicioClase de\n",
    "tipo datetime que contenga la fecha y la hora a\n",
    "la que ha empezado la clase de hoy.\n",
    "Utiliza un método de los objetos datetime para\n",
    "formatear la fecha y la hora almacenada en\n",
    "InicioClase con el formato ‘dd/mm/YYYY\n",
    "HH:MM:SS’."
   ]
  },
  {
   "cell_type": "code",
   "execution_count": 14,
   "metadata": {},
   "outputs": [
    {
     "name": "stdout",
     "output_type": "stream",
     "text": [
      "23/09/2024 12:00:00\n"
     ]
    }
   ],
   "source": [
    "from datetime import datetime\n",
    "\n",
    "InicioClase = datetime(day=23 , month=9 , year=2024 , hour=12 , minute=00 , second=00)\n",
    "print(InicioClase.strftime(\"%d/%m/%Y %H:%M:%S\"))"
   ]
  }
 ],
 "metadata": {
  "kernelspec": {
   "display_name": "base",
   "language": "python",
   "name": "python3"
  },
  "language_info": {
   "codemirror_mode": {
    "name": "ipython",
    "version": 3
   },
   "file_extension": ".py",
   "mimetype": "text/x-python",
   "name": "python",
   "nbconvert_exporter": "python",
   "pygments_lexer": "ipython3",
   "version": "3.12.4"
  }
 },
 "nbformat": 4,
 "nbformat_minor": 2
}
