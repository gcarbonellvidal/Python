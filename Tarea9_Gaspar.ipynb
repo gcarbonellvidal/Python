{
 "cells": [
  {
   "cell_type": "markdown",
   "metadata": {},
   "source": [
    "Crea un Notebook de Jupiter denominado Tarea9.ipynb para completar\n",
    "los ejercicios propuestos en esta tarea.\n",
    "Crea una función denominada Mifactorial que devuelva el factorial de\n",
    "un número entero n. Utiliza bucles for y sentencias if."
   ]
  },
  {
   "cell_type": "code",
   "execution_count": 6,
   "metadata": {},
   "outputs": [
    {
     "data": {
      "text/plain": [
       "30414093201713378043612608166064768844377641568960512000000000000"
      ]
     },
     "execution_count": 6,
     "metadata": {},
     "output_type": "execute_result"
    }
   ],
   "source": [
    "def factorial(factor):\n",
    "\n",
    "    if factor == 0:\n",
    "        factorial = 1\n",
    "    else:\n",
    "        factorial = 1\n",
    "        for i in range(factor):\n",
    "            factorial = factorial*(i+1)\n",
    "    return(factorial)        \n",
    "\n",
    "factorial(5)   \n",
    "factorial(50)      "
   ]
  },
  {
   "cell_type": "markdown",
   "metadata": {},
   "source": [
    "• Una determinada compañía evalúa la calidad de sus clientes a través del\n",
    "ICC=Gasto/ (Insatisfaccion+1)2. El Gasto es un dato normalizado entre\n",
    "0 y 100. La insatisfacción se mide con una variable continua definida entre\n",
    "0 y 1. La empresa categoriza a los clientes de la siguiente manera:\n",
    "• IC<17 Cliente Pésimo\n",
    "• 17<=IC<18 Cliente a Pésimo II\n",
    "• 18<=IC<25 Cliente Normal\n",
    "• 25<=IC<30 Cliente OK\n",
    "• 30<=IC<35 Cliente OK II\n",
    "• 35<=IC<40 Cliente OK III\n",
    "• IC>=40 Cliente Premium\n",
    "Crea una función de Python denominada ICC que calcule el índice de\n",
    "calidad del cliente. Debe tener como argumentos el gasto, la insatisfacción\n",
    "del cliente y el nombre del mismo. La función debe devolver una lista en el\n",
    "que el primer elemento es el nombre del cliente y el segundo el ICC del\n",
    "cliente."
   ]
  },
  {
   "cell_type": "code",
   "execution_count": 27,
   "metadata": {},
   "outputs": [
    {
     "data": {
      "text/plain": [
       "('Gaspar', 'Cliente normal')"
      ]
     },
     "execution_count": 27,
     "metadata": {},
     "output_type": "execute_result"
    }
   ],
   "source": [
    "def ICC(gasto , insastifaccion , nombre):\n",
    "    IC = gasto / ((insastifaccion + 1)**2)\n",
    "\n",
    "    if IC < 17:\n",
    "        indice = \"Cliente Pésimo\"\n",
    "    elif IC >= 17 and IC < 18:\n",
    "        indice = \"Cliente a Pésimo II\"\n",
    "    elif IC >= 18 and IC < 25:\n",
    "        indice = \"Cliente normal\"\n",
    "    elif IC >= 25 and IC < 30:\n",
    "        indice = \"Cliente OK\"\n",
    "    elif IC >= 30 and IC < 35:\n",
    "        indice = \"Cliente OK II\"     \n",
    "    elif IC >= 35 and IC < 40:\n",
    "        indice = \"Cliente OK III\"    \n",
    "    else:\n",
    "        indice = \"Cliente Premium\"    \n",
    "\n",
    "    return nombre , indice     \n",
    "\n",
    "ICC(90 , 0.7 , \"Manolo\")       \n",
    "ICC(70 , 0.9 , \"Gaspar\")"
   ]
  },
  {
   "cell_type": "markdown",
   "metadata": {},
   "source": [
    "Crea otra función llamada ICC_GLOBAL como la\n",
    "anterior, cuyo argumento sea un diccionario en el que\n",
    "las claves contendrán los nombres de los clientes y en\n",
    "el valor una lista que contiene el gasto y la\n",
    "insatisfacción. La salida de la función debe devolver un\n",
    "diccionario con los nombres de los clientes y su ICC."
   ]
  },
  {
   "cell_type": "code",
   "execution_count": null,
   "metadata": {},
   "outputs": [],
   "source": []
  },
  {
   "cell_type": "markdown",
   "metadata": {},
   "source": [
    "Modifica ICC_GLOBAL, para que si el gasto o la\n",
    "insatisfacción no son números reales, devuelva un\n",
    "mensaje por pantalla indicando No se puede\n",
    "calcular el ICC, revisa los argumentos, todo\n",
    "esto sin que el interprete de Python devuelva un error."
   ]
  }
 ],
 "metadata": {
  "kernelspec": {
   "display_name": "base",
   "language": "python",
   "name": "python3"
  },
  "language_info": {
   "codemirror_mode": {
    "name": "ipython",
    "version": 3
   },
   "file_extension": ".py",
   "mimetype": "text/x-python",
   "name": "python",
   "nbconvert_exporter": "python",
   "pygments_lexer": "ipython3",
   "version": "3.12.4"
  }
 },
 "nbformat": 4,
 "nbformat_minor": 2
}
