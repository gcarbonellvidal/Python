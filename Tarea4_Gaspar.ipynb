{
 "cells": [
  {
   "cell_type": "markdown",
   "metadata": {},
   "source": [
    "Escribe un programa (Jupiter notebook) que solicite al usuario las notas de:\n",
    "•Lengua\n",
    "•Matemáticas\n",
    "•Programación en Python"
   ]
  },
  {
   "cell_type": "code",
   "execution_count": 14,
   "metadata": {},
   "outputs": [],
   "source": [
    "Lengua = float(input(\"Inserte la nota de Lengua\"))\n",
    "Matematicas = float(input(\"Inserte la nota de Matematicas\"))\n",
    "Phyton = float(input(\"Inserte la nota de Programacion en Python\"))"
   ]
  },
  {
   "cell_type": "markdown",
   "metadata": {},
   "source": [
    "Y calcule la nota media sabiendo que no todas ellas tienen el mismo peso sobre la nota\n",
    "final.\n",
    "•34% Lengua\n",
    "•30% Matemáticas\n",
    "•36% Programación en Python\n",
    "El programa debe sacar por pantalla cada una de las notas, su porcentaje sobre la nota\n",
    "final y la nota final"
   ]
  },
  {
   "cell_type": "code",
   "execution_count": 19,
   "metadata": {},
   "outputs": [
    {
     "name": "stdout",
     "output_type": "stream",
     "text": [
      "Lengua:  7.5\n",
      "Matemáticas:  8.6\n",
      "Programación en Python:  4.9\n",
      "Nota Final:  6.894\n"
     ]
    }
   ],
   "source": [
    "\n",
    "nota_media = (Lengua*0.34 + Matematicas*0.3 + Phyton*0.36)\n",
    "print(\"Lengua: \" , Lengua)\n",
    "print(\"Matemáticas: \" , Matematicas)\n",
    "print(\"Programación en Python: \" , Phyton)\n",
    "print(\"Nota Final: \" , nota_media)"
   ]
  }
 ],
 "metadata": {
  "kernelspec": {
   "display_name": "base",
   "language": "python",
   "name": "python3"
  },
  "language_info": {
   "codemirror_mode": {
    "name": "ipython",
    "version": 3
   },
   "file_extension": ".py",
   "mimetype": "text/x-python",
   "name": "python",
   "nbconvert_exporter": "python",
   "pygments_lexer": "ipython3",
   "version": "3.12.4"
  }
 },
 "nbformat": 4,
 "nbformat_minor": 2
}
